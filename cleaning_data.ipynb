{
  "nbformat": 4,
  "nbformat_minor": 0,
  "metadata": {
    "colab": {
      "name": "depression_bot_data",
      "provenance": []
    },
    "kernelspec": {
      "name": "python3",
      "display_name": "Python 3"
    }
  },
  "cells": [
    {
      "cell_type": "code",
      "metadata": {
        "id": "xkYHh0bpsh5h",
        "colab_type": "code",
        "colab": {}
      },
      "source": [
        "import pandas as pd\n",
        "import matplotlib.pyplot as plt\n",
        "import re"
      ],
      "execution_count": 3,
      "outputs": []
    },
    {
      "cell_type": "code",
      "metadata": {
        "id": "skNqJ6_Hsuoj",
        "colab_type": "code",
        "colab": {}
      },
      "source": [
        "df = pd.read_csv('data.csv')"
      ],
      "execution_count": 4,
      "outputs": []
    },
    {
      "cell_type": "code",
      "metadata": {
        "id": "aanXsBILsySZ",
        "colab_type": "code",
        "colab": {
          "base_uri": "https://localhost:8080/",
          "height": 195
        },
        "outputId": "a7a39a3b-4e0b-4dc6-9c91-df8fe9cc9415"
      },
      "source": [
        "df.head(5)"
      ],
      "execution_count": 5,
      "outputs": [
        {
          "output_type": "execute_result",
          "data": {
            "text/html": [
              "<div>\n",
              "<style scoped>\n",
              "    .dataframe tbody tr th:only-of-type {\n",
              "        vertical-align: middle;\n",
              "    }\n",
              "\n",
              "    .dataframe tbody tr th {\n",
              "        vertical-align: top;\n",
              "    }\n",
              "\n",
              "    .dataframe thead th {\n",
              "        text-align: right;\n",
              "    }\n",
              "</style>\n",
              "<table border=\"1\" class=\"dataframe\">\n",
              "  <thead>\n",
              "    <tr style=\"text-align: right;\">\n",
              "      <th></th>\n",
              "      <th>title</th>\n",
              "      <th>response</th>\n",
              "    </tr>\n",
              "  </thead>\n",
              "  <tbody>\n",
              "    <tr>\n",
              "      <th>0</th>\n",
              "      <td>It kills me to see others in worse positions t...</td>\n",
              "      <td>I don’t know who you are, but I needed this an...</td>\n",
              "    </tr>\n",
              "    <tr>\n",
              "      <th>1</th>\n",
              "      <td>I don’t know who you are, but I needed this an...</td>\n",
              "      <td>Its no problem. I just know what its like. I'v...</td>\n",
              "    </tr>\n",
              "    <tr>\n",
              "      <th>2</th>\n",
              "      <td>Summer depression</td>\n",
              "      <td>[deleted]</td>\n",
              "    </tr>\n",
              "    <tr>\n",
              "      <th>3</th>\n",
              "      <td>[deleted]</td>\n",
              "      <td>I think it might be the hot weather for me... ...</td>\n",
              "    </tr>\n",
              "    <tr>\n",
              "      <th>4</th>\n",
              "      <td>[Chronically depressed 3+ years] I feel pathet...</td>\n",
              "      <td>It’s nice when people give us compliments. We ...</td>\n",
              "    </tr>\n",
              "  </tbody>\n",
              "</table>\n",
              "</div>"
            ],
            "text/plain": [
              "                                               title                                           response\n",
              "0  It kills me to see others in worse positions t...  I don’t know who you are, but I needed this an...\n",
              "1  I don’t know who you are, but I needed this an...  Its no problem. I just know what its like. I'v...\n",
              "2                                  Summer depression                                          [deleted]\n",
              "3                                          [deleted]  I think it might be the hot weather for me... ...\n",
              "4  [Chronically depressed 3+ years] I feel pathet...  It’s nice when people give us compliments. We ..."
            ]
          },
          "metadata": {
            "tags": []
          },
          "execution_count": 5
        }
      ]
    },
    {
      "cell_type": "code",
      "metadata": {
        "id": "kAURibv5s9J0",
        "colab_type": "code",
        "colab": {
          "base_uri": "https://localhost:8080/",
          "height": 34
        },
        "outputId": "2385d8bb-d43e-4f54-fd56-5d30b85c82e1"
      },
      "source": [
        "df['title'][0]"
      ],
      "execution_count": 8,
      "outputs": [
        {
          "output_type": "execute_result",
          "data": {
            "text/plain": [
              "\"It kills me to see others in worse positions than I am. You matter. You all matter and it doesn't matter what your depression or suicidal thoughts tell you.\""
            ]
          },
          "metadata": {
            "tags": []
          },
          "execution_count": 8
        }
      ]
    },
    {
      "cell_type": "code",
      "metadata": {
        "id": "hxacpJLZti9N",
        "colab_type": "code",
        "colab": {
          "base_uri": "https://localhost:8080/",
          "height": 54
        },
        "outputId": "f8e0e11f-07b9-4ce7-94d0-86ea43839030"
      },
      "source": [
        "df['response'][0]"
      ],
      "execution_count": 9,
      "outputs": [
        {
          "output_type": "execute_result",
          "data": {
            "text/plain": [
              "'I don’t know who you are, but I needed this and I thank you. I’ve been stuck ina runt for a couple months now. Wanting to just die and let it all be over with. But after reading it, I have a different mindset. Once again thank you kind stranger'"
            ]
          },
          "metadata": {
            "tags": []
          },
          "execution_count": 9
        }
      ]
    },
    {
      "cell_type": "code",
      "metadata": {
        "id": "FJm78rj-uXiy",
        "colab_type": "code",
        "colab": {
          "base_uri": "https://localhost:8080/",
          "height": 34
        },
        "outputId": "f2529fc4-666c-406d-8d38-67560ad5b29d"
      },
      "source": [
        "df.shape"
      ],
      "execution_count": 11,
      "outputs": [
        {
          "output_type": "execute_result",
          "data": {
            "text/plain": [
              "(19227, 2)"
            ]
          },
          "metadata": {
            "tags": []
          },
          "execution_count": 11
        }
      ]
    },
    {
      "cell_type": "code",
      "metadata": {
        "id": "wLLOvJAbtoGs",
        "colab_type": "code",
        "colab": {}
      },
      "source": [
        "# removing the deleted response and titles\n",
        "df = df[(df.title != '[deleted]') & (df.response != '[deleted]')]\n"
      ],
      "execution_count": 13,
      "outputs": []
    },
    {
      "cell_type": "code",
      "metadata": {
        "id": "_Sl2Ypawu1Gv",
        "colab_type": "code",
        "colab": {
          "base_uri": "https://localhost:8080/",
          "height": 34
        },
        "outputId": "c3abb51e-077f-4b88-a477-97de98f5a783"
      },
      "source": [
        "df.shape"
      ],
      "execution_count": 14,
      "outputs": [
        {
          "output_type": "execute_result",
          "data": {
            "text/plain": [
              "(18758, 2)"
            ]
          },
          "metadata": {
            "tags": []
          },
          "execution_count": 14
        }
      ]
    },
    {
      "cell_type": "code",
      "metadata": {
        "id": "f5OyVDzDvFBW",
        "colab_type": "code",
        "colab": {
          "base_uri": "https://localhost:8080/",
          "height": 195
        },
        "outputId": "1b15e346-a774-4093-97d8-35dbbc72538c"
      },
      "source": [
        "df.head(5)"
      ],
      "execution_count": 15,
      "outputs": [
        {
          "output_type": "execute_result",
          "data": {
            "text/html": [
              "<div>\n",
              "<style scoped>\n",
              "    .dataframe tbody tr th:only-of-type {\n",
              "        vertical-align: middle;\n",
              "    }\n",
              "\n",
              "    .dataframe tbody tr th {\n",
              "        vertical-align: top;\n",
              "    }\n",
              "\n",
              "    .dataframe thead th {\n",
              "        text-align: right;\n",
              "    }\n",
              "</style>\n",
              "<table border=\"1\" class=\"dataframe\">\n",
              "  <thead>\n",
              "    <tr style=\"text-align: right;\">\n",
              "      <th></th>\n",
              "      <th>title</th>\n",
              "      <th>response</th>\n",
              "    </tr>\n",
              "  </thead>\n",
              "  <tbody>\n",
              "    <tr>\n",
              "      <th>0</th>\n",
              "      <td>It kills me to see others in worse positions t...</td>\n",
              "      <td>I don’t know who you are, but I needed this an...</td>\n",
              "    </tr>\n",
              "    <tr>\n",
              "      <th>1</th>\n",
              "      <td>I don’t know who you are, but I needed this an...</td>\n",
              "      <td>Its no problem. I just know what its like. I'v...</td>\n",
              "    </tr>\n",
              "    <tr>\n",
              "      <th>4</th>\n",
              "      <td>[Chronically depressed 3+ years] I feel pathet...</td>\n",
              "      <td>It’s nice when people give us compliments. We ...</td>\n",
              "    </tr>\n",
              "    <tr>\n",
              "      <th>5</th>\n",
              "      <td>Sick of being sad and lonely</td>\n",
              "      <td>Dude, I'm terribly sorry for how things have h...</td>\n",
              "    </tr>\n",
              "    <tr>\n",
              "      <th>6</th>\n",
              "      <td>Dude, I'm terribly sorry for how things have h...</td>\n",
              "      <td>This is probably some of the best advice I hav...</td>\n",
              "    </tr>\n",
              "  </tbody>\n",
              "</table>\n",
              "</div>"
            ],
            "text/plain": [
              "                                               title                                           response\n",
              "0  It kills me to see others in worse positions t...  I don’t know who you are, but I needed this an...\n",
              "1  I don’t know who you are, but I needed this an...  Its no problem. I just know what its like. I'v...\n",
              "4  [Chronically depressed 3+ years] I feel pathet...  It’s nice when people give us compliments. We ...\n",
              "5                       Sick of being sad and lonely  Dude, I'm terribly sorry for how things have h...\n",
              "6  Dude, I'm terribly sorry for how things have h...  This is probably some of the best advice I hav..."
            ]
          },
          "metadata": {
            "tags": []
          },
          "execution_count": 15
        }
      ]
    },
    {
      "cell_type": "code",
      "metadata": {
        "id": "wqCzGmE8vHA5",
        "colab_type": "code",
        "colab": {
          "base_uri": "https://localhost:8080/",
          "height": 302
        },
        "outputId": "f57c0f16-f964-44b6-9749-5a6eb1a61373"
      },
      "source": [
        "# removing contractions\n",
        "!pip install contractions\n",
        "\n",
        "import contractions"
      ],
      "execution_count": 17,
      "outputs": [
        {
          "output_type": "stream",
          "text": [
            "Collecting contractions\n",
            "  Downloading https://files.pythonhosted.org/packages/00/92/a05b76a692ac08d470ae5c23873cf1c9a041532f1ee065e74b374f218306/contractions-0.0.25-py2.py3-none-any.whl\n",
            "Collecting textsearch\n",
            "  Downloading https://files.pythonhosted.org/packages/42/a8/03407021f9555043de5492a2bd7a35c56cc03c2510092b5ec018cae1bbf1/textsearch-0.0.17-py2.py3-none-any.whl\n",
            "Collecting pyahocorasick\n",
            "\u001b[?25l  Downloading https://files.pythonhosted.org/packages/f4/9f/f0d8e8850e12829eea2e778f1c90e3c53a9a799b7f412082a5d21cd19ae1/pyahocorasick-1.4.0.tar.gz (312kB)\n",
            "\u001b[K     |████████████████████████████████| 317kB 3.7MB/s \n",
            "\u001b[?25hCollecting Unidecode\n",
            "\u001b[?25l  Downloading https://files.pythonhosted.org/packages/d0/42/d9edfed04228bacea2d824904cae367ee9efd05e6cce7ceaaedd0b0ad964/Unidecode-1.1.1-py2.py3-none-any.whl (238kB)\n",
            "\u001b[K     |████████████████████████████████| 245kB 8.4MB/s \n",
            "\u001b[?25hBuilding wheels for collected packages: pyahocorasick\n",
            "  Building wheel for pyahocorasick (setup.py) ... \u001b[?25l\u001b[?25hdone\n",
            "  Created wheel for pyahocorasick: filename=pyahocorasick-1.4.0-cp36-cp36m-linux_x86_64.whl size=81708 sha256=47401c3e0526426060eb26a68c2972c952f4a5bec0c57da214d51921a64144d5\n",
            "  Stored in directory: /root/.cache/pip/wheels/0a/90/61/87a55f5b459792fbb2b7ba6b31721b06ff5cf6bde541b40994\n",
            "Successfully built pyahocorasick\n",
            "Installing collected packages: pyahocorasick, Unidecode, textsearch, contractions\n",
            "Successfully installed Unidecode-1.1.1 contractions-0.0.25 pyahocorasick-1.4.0 textsearch-0.0.17\n"
          ],
          "name": "stdout"
        }
      ]
    },
    {
      "cell_type": "code",
      "metadata": {
        "id": "TL0bSUJwwMtu",
        "colab_type": "code",
        "colab": {
          "base_uri": "https://localhost:8080/",
          "height": 34
        },
        "outputId": "36e18213-4be7-4523-cf75-79bd91f48c2b"
      },
      "source": [
        "contractions.fix(\"I am super cool that aint you're fault\")"
      ],
      "execution_count": 23,
      "outputs": [
        {
          "output_type": "execute_result",
          "data": {
            "text/plain": [
              "'I am super cool that are not you are fault'"
            ]
          },
          "metadata": {
            "tags": []
          },
          "execution_count": 23
        }
      ]
    },
    {
      "cell_type": "code",
      "metadata": {
        "id": "mkHDVfJ9wfj1",
        "colab_type": "code",
        "colab": {}
      },
      "source": [
        "df['title'] = df['title'].apply(lambda x : x.replace(x, contractions.fix(x)))"
      ],
      "execution_count": 24,
      "outputs": []
    },
    {
      "cell_type": "code",
      "metadata": {
        "id": "4d-8RLQBxwzQ",
        "colab_type": "code",
        "colab": {}
      },
      "source": [
        "df['response'] = df['response'].apply(lambda x: x.replace(x, contractions.fix(x)))"
      ],
      "execution_count": 26,
      "outputs": []
    },
    {
      "cell_type": "code",
      "metadata": {
        "id": "3weaUMWxx-vA",
        "colab_type": "code",
        "colab": {}
      },
      "source": [
        "# getting rid of all punctuations and all special characters\n",
        "df['title'] = df['title'].str.replace(\"[^a-zA-Z#]\", \" \")\n",
        "df['response'] = df['response'].str.replace(\"[^a-zA-Z#]\", \" \")"
      ],
      "execution_count": 27,
      "outputs": []
    },
    {
      "cell_type": "code",
      "metadata": {
        "id": "eX5vDATZ0N1n",
        "colab_type": "code",
        "colab": {
          "base_uri": "https://localhost:8080/",
          "height": 195
        },
        "outputId": "eafd7302-a0ce-49d7-e71f-102a66b431de"
      },
      "source": [
        "df.head()"
      ],
      "execution_count": 28,
      "outputs": [
        {
          "output_type": "execute_result",
          "data": {
            "text/html": [
              "<div>\n",
              "<style scoped>\n",
              "    .dataframe tbody tr th:only-of-type {\n",
              "        vertical-align: middle;\n",
              "    }\n",
              "\n",
              "    .dataframe tbody tr th {\n",
              "        vertical-align: top;\n",
              "    }\n",
              "\n",
              "    .dataframe thead th {\n",
              "        text-align: right;\n",
              "    }\n",
              "</style>\n",
              "<table border=\"1\" class=\"dataframe\">\n",
              "  <thead>\n",
              "    <tr style=\"text-align: right;\">\n",
              "      <th></th>\n",
              "      <th>title</th>\n",
              "      <th>response</th>\n",
              "    </tr>\n",
              "  </thead>\n",
              "  <tbody>\n",
              "    <tr>\n",
              "      <th>0</th>\n",
              "      <td>It kills me to see others in worse positions t...</td>\n",
              "      <td>I do not know who you are  but I needed this a...</td>\n",
              "    </tr>\n",
              "    <tr>\n",
              "      <th>1</th>\n",
              "      <td>I do not know who you are  but I needed this a...</td>\n",
              "      <td>Its no problem  I just know what its like  I h...</td>\n",
              "    </tr>\n",
              "    <tr>\n",
              "      <th>4</th>\n",
              "      <td>Chronically depressed    years  I feel pathet...</td>\n",
              "      <td>it is nice when people give us compliments  We...</td>\n",
              "    </tr>\n",
              "    <tr>\n",
              "      <th>5</th>\n",
              "      <td>Sick of being sad and lonely</td>\n",
              "      <td>Dude  I am terribly sorry for how things have ...</td>\n",
              "    </tr>\n",
              "    <tr>\n",
              "      <th>6</th>\n",
              "      <td>Dude  I am terribly sorry for how things have ...</td>\n",
              "      <td>This is probably some of the best advice I hav...</td>\n",
              "    </tr>\n",
              "  </tbody>\n",
              "</table>\n",
              "</div>"
            ],
            "text/plain": [
              "                                               title                                           response\n",
              "0  It kills me to see others in worse positions t...  I do not know who you are  but I needed this a...\n",
              "1  I do not know who you are  but I needed this a...  Its no problem  I just know what its like  I h...\n",
              "4   Chronically depressed    years  I feel pathet...  it is nice when people give us compliments  We...\n",
              "5                       Sick of being sad and lonely  Dude  I am terribly sorry for how things have ...\n",
              "6  Dude  I am terribly sorry for how things have ...  This is probably some of the best advice I hav..."
            ]
          },
          "metadata": {
            "tags": []
          },
          "execution_count": 28
        }
      ]
    },
    {
      "cell_type": "code",
      "metadata": {
        "id": "pDrlS9ue0QuM",
        "colab_type": "code",
        "colab": {}
      },
      "source": [
        "# lower casing all text\n",
        "df['title'] = df['title'].apply(lambda x : x.lower().strip())\n",
        "df['response'] = df['response'].apply(lambda x : x.lower().strip())"
      ],
      "execution_count": 35,
      "outputs": []
    },
    {
      "cell_type": "code",
      "metadata": {
        "id": "3eu5Gs3J3OWQ",
        "colab_type": "code",
        "colab": {
          "base_uri": "https://localhost:8080/",
          "height": 195
        },
        "outputId": "a72b59a5-6a6a-4f04-8e8e-6484a6ab1717"
      },
      "source": [
        "df.tail()"
      ],
      "execution_count": 36,
      "outputs": [
        {
          "output_type": "execute_result",
          "data": {
            "text/html": [
              "<div>\n",
              "<style scoped>\n",
              "    .dataframe tbody tr th:only-of-type {\n",
              "        vertical-align: middle;\n",
              "    }\n",
              "\n",
              "    .dataframe tbody tr th {\n",
              "        vertical-align: top;\n",
              "    }\n",
              "\n",
              "    .dataframe thead th {\n",
              "        text-align: right;\n",
              "    }\n",
              "</style>\n",
              "<table border=\"1\" class=\"dataframe\">\n",
              "  <thead>\n",
              "    <tr style=\"text-align: right;\">\n",
              "      <th></th>\n",
              "      <th>title</th>\n",
              "      <th>response</th>\n",
              "    </tr>\n",
              "  </thead>\n",
              "  <tbody>\n",
              "    <tr>\n",
              "      <th>19222</th>\n",
              "      <td>most of us have been there dear friend  most o...</td>\n",
              "      <td>comforting to hear that i am not the only one ...</td>\n",
              "    </tr>\n",
              "    <tr>\n",
              "      <th>19223</th>\n",
              "      <td>comforting to hear that i am not the only one ...</td>\n",
              "      <td>this may be something not many would like to h...</td>\n",
              "    </tr>\n",
              "    <tr>\n",
              "      <th>19224</th>\n",
              "      <td>this may be something not many would like to h...</td>\n",
              "      <td>i will second this  i started down the psyched...</td>\n",
              "    </tr>\n",
              "    <tr>\n",
              "      <th>19225</th>\n",
              "      <td>dmt breakthroughs and the  surreal real</td>\n",
              "      <td>breakthroughs on dmt are rare already as it is...</td>\n",
              "    </tr>\n",
              "    <tr>\n",
              "      <th>19226</th>\n",
              "      <td>question about potency</td>\n",
              "      <td>are they still cracker dry</td>\n",
              "    </tr>\n",
              "  </tbody>\n",
              "</table>\n",
              "</div>"
            ],
            "text/plain": [
              "                                                   title                                           response\n",
              "19222  most of us have been there dear friend  most o...  comforting to hear that i am not the only one ...\n",
              "19223  comforting to hear that i am not the only one ...  this may be something not many would like to h...\n",
              "19224  this may be something not many would like to h...  i will second this  i started down the psyched...\n",
              "19225            dmt breakthroughs and the  surreal real  breakthroughs on dmt are rare already as it is...\n",
              "19226                             question about potency                         are they still cracker dry"
            ]
          },
          "metadata": {
            "tags": []
          },
          "execution_count": 36
        }
      ]
    },
    {
      "cell_type": "code",
      "metadata": {
        "id": "3oyQvZwK3WVj",
        "colab_type": "code",
        "colab": {
          "base_uri": "https://localhost:8080/",
          "height": 205
        },
        "outputId": "65e1a3a5-85fb-4029-eee2-0a07b81a6118"
      },
      "source": [
        "# correcting all spelling mistakes\n",
        "!pip install autocorrect\n",
        "from autocorrect import Speller"
      ],
      "execution_count": 39,
      "outputs": [
        {
          "output_type": "stream",
          "text": [
            "Collecting autocorrect\n",
            "\u001b[?25l  Downloading https://files.pythonhosted.org/packages/aa/5b/6510d8370201fc96cbb773232c2362079389ed3285b0b1c6a297ef6eadc0/autocorrect-2.0.0.tar.gz (1.8MB)\n",
            "\r\u001b[K     |▏                               | 10kB 17.6MB/s eta 0:00:01\r\u001b[K     |▍                               | 20kB 1.6MB/s eta 0:00:02\r\u001b[K     |▌                               | 30kB 2.1MB/s eta 0:00:01\r\u001b[K     |▊                               | 40kB 2.4MB/s eta 0:00:01\r\u001b[K     |█                               | 51kB 2.0MB/s eta 0:00:01\r\u001b[K     |█                               | 61kB 2.2MB/s eta 0:00:01\r\u001b[K     |█▎                              | 71kB 2.5MB/s eta 0:00:01\r\u001b[K     |█▌                              | 81kB 2.8MB/s eta 0:00:01\r\u001b[K     |█▋                              | 92kB 2.9MB/s eta 0:00:01\r\u001b[K     |█▉                              | 102kB 2.9MB/s eta 0:00:01\r\u001b[K     |██                              | 112kB 2.9MB/s eta 0:00:01\r\u001b[K     |██▏                             | 122kB 2.9MB/s eta 0:00:01\r\u001b[K     |██▍                             | 133kB 2.9MB/s eta 0:00:01\r\u001b[K     |██▌                             | 143kB 2.9MB/s eta 0:00:01\r\u001b[K     |██▊                             | 153kB 2.9MB/s eta 0:00:01\r\u001b[K     |███                             | 163kB 2.9MB/s eta 0:00:01\r\u001b[K     |███                             | 174kB 2.9MB/s eta 0:00:01\r\u001b[K     |███▎                            | 184kB 2.9MB/s eta 0:00:01\r\u001b[K     |███▍                            | 194kB 2.9MB/s eta 0:00:01\r\u001b[K     |███▋                            | 204kB 2.9MB/s eta 0:00:01\r\u001b[K     |███▉                            | 215kB 2.9MB/s eta 0:00:01\r\u001b[K     |████                            | 225kB 2.9MB/s eta 0:00:01\r\u001b[K     |████▏                           | 235kB 2.9MB/s eta 0:00:01\r\u001b[K     |████▍                           | 245kB 2.9MB/s eta 0:00:01\r\u001b[K     |████▌                           | 256kB 2.9MB/s eta 0:00:01\r\u001b[K     |████▊                           | 266kB 2.9MB/s eta 0:00:01\r\u001b[K     |████▉                           | 276kB 2.9MB/s eta 0:00:01\r\u001b[K     |█████                           | 286kB 2.9MB/s eta 0:00:01\r\u001b[K     |█████▎                          | 296kB 2.9MB/s eta 0:00:01\r\u001b[K     |█████▍                          | 307kB 2.9MB/s eta 0:00:01\r\u001b[K     |█████▋                          | 317kB 2.9MB/s eta 0:00:01\r\u001b[K     |█████▉                          | 327kB 2.9MB/s eta 0:00:01\r\u001b[K     |██████                          | 337kB 2.9MB/s eta 0:00:01\r\u001b[K     |██████▏                         | 348kB 2.9MB/s eta 0:00:01\r\u001b[K     |██████▎                         | 358kB 2.9MB/s eta 0:00:01\r\u001b[K     |██████▌                         | 368kB 2.9MB/s eta 0:00:01\r\u001b[K     |██████▊                         | 378kB 2.9MB/s eta 0:00:01\r\u001b[K     |██████▉                         | 389kB 2.9MB/s eta 0:00:01\r\u001b[K     |███████                         | 399kB 2.9MB/s eta 0:00:01\r\u001b[K     |███████▎                        | 409kB 2.9MB/s eta 0:00:01\r\u001b[K     |███████▍                        | 419kB 2.9MB/s eta 0:00:01\r\u001b[K     |███████▋                        | 430kB 2.9MB/s eta 0:00:01\r\u001b[K     |███████▊                        | 440kB 2.9MB/s eta 0:00:01\r\u001b[K     |████████                        | 450kB 2.9MB/s eta 0:00:01\r\u001b[K     |████████▏                       | 460kB 2.9MB/s eta 0:00:01\r\u001b[K     |████████▎                       | 471kB 2.9MB/s eta 0:00:01\r\u001b[K     |████████▌                       | 481kB 2.9MB/s eta 0:00:01\r\u001b[K     |████████▊                       | 491kB 2.9MB/s eta 0:00:01\r\u001b[K     |████████▉                       | 501kB 2.9MB/s eta 0:00:01\r\u001b[K     |█████████                       | 512kB 2.9MB/s eta 0:00:01\r\u001b[K     |█████████▎                      | 522kB 2.9MB/s eta 0:00:01\r\u001b[K     |█████████▍                      | 532kB 2.9MB/s eta 0:00:01\r\u001b[K     |█████████▋                      | 542kB 2.9MB/s eta 0:00:01\r\u001b[K     |█████████▊                      | 552kB 2.9MB/s eta 0:00:01\r\u001b[K     |██████████                      | 563kB 2.9MB/s eta 0:00:01\r\u001b[K     |██████████▏                     | 573kB 2.9MB/s eta 0:00:01\r\u001b[K     |██████████▎                     | 583kB 2.9MB/s eta 0:00:01\r\u001b[K     |██████████▌                     | 593kB 2.9MB/s eta 0:00:01\r\u001b[K     |██████████▊                     | 604kB 2.9MB/s eta 0:00:01\r\u001b[K     |██████████▉                     | 614kB 2.9MB/s eta 0:00:01\r\u001b[K     |███████████                     | 624kB 2.9MB/s eta 0:00:01\r\u001b[K     |███████████▏                    | 634kB 2.9MB/s eta 0:00:01\r\u001b[K     |███████████▍                    | 645kB 2.9MB/s eta 0:00:01\r\u001b[K     |███████████▋                    | 655kB 2.9MB/s eta 0:00:01\r\u001b[K     |███████████▊                    | 665kB 2.9MB/s eta 0:00:01\r\u001b[K     |████████████                    | 675kB 2.9MB/s eta 0:00:01\r\u001b[K     |████████████▏                   | 686kB 2.9MB/s eta 0:00:01\r\u001b[K     |████████████▎                   | 696kB 2.9MB/s eta 0:00:01\r\u001b[K     |████████████▌                   | 706kB 2.9MB/s eta 0:00:01\r\u001b[K     |████████████▋                   | 716kB 2.9MB/s eta 0:00:01\r\u001b[K     |████████████▉                   | 727kB 2.9MB/s eta 0:00:01\r\u001b[K     |█████████████                   | 737kB 2.9MB/s eta 0:00:01\r\u001b[K     |█████████████▏                  | 747kB 2.9MB/s eta 0:00:01\r\u001b[K     |█████████████▍                  | 757kB 2.9MB/s eta 0:00:01\r\u001b[K     |█████████████▋                  | 768kB 2.9MB/s eta 0:00:01\r\u001b[K     |█████████████▊                  | 778kB 2.9MB/s eta 0:00:01\r\u001b[K     |██████████████                  | 788kB 2.9MB/s eta 0:00:01\r\u001b[K     |██████████████                  | 798kB 2.9MB/s eta 0:00:01\r\u001b[K     |██████████████▎                 | 808kB 2.9MB/s eta 0:00:01\r\u001b[K     |██████████████▌                 | 819kB 2.9MB/s eta 0:00:01\r\u001b[K     |██████████████▋                 | 829kB 2.9MB/s eta 0:00:01\r\u001b[K     |██████████████▉                 | 839kB 2.9MB/s eta 0:00:01\r\u001b[K     |███████████████                 | 849kB 2.9MB/s eta 0:00:01\r\u001b[K     |███████████████▏                | 860kB 2.9MB/s eta 0:00:01\r\u001b[K     |███████████████▍                | 870kB 2.9MB/s eta 0:00:01\r\u001b[K     |███████████████▌                | 880kB 2.9MB/s eta 0:00:01\r\u001b[K     |███████████████▊                | 890kB 2.9MB/s eta 0:00:01\r\u001b[K     |████████████████                | 901kB 2.9MB/s eta 0:00:01\r\u001b[K     |████████████████                | 911kB 2.9MB/s eta 0:00:01\r\u001b[K     |████████████████▎               | 921kB 2.9MB/s eta 0:00:01\r\u001b[K     |████████████████▌               | 931kB 2.9MB/s eta 0:00:01\r\u001b[K     |████████████████▋               | 942kB 2.9MB/s eta 0:00:01\r\u001b[K     |████████████████▉               | 952kB 2.9MB/s eta 0:00:01\r\u001b[K     |█████████████████               | 962kB 2.9MB/s eta 0:00:01\r\u001b[K     |█████████████████▏              | 972kB 2.9MB/s eta 0:00:01\r\u001b[K     |█████████████████▍              | 983kB 2.9MB/s eta 0:00:01\r\u001b[K     |█████████████████▌              | 993kB 2.9MB/s eta 0:00:01\r\u001b[K     |█████████████████▊              | 1.0MB 2.9MB/s eta 0:00:01\r\u001b[K     |██████████████████              | 1.0MB 2.9MB/s eta 0:00:01\r\u001b[K     |██████████████████              | 1.0MB 2.9MB/s eta 0:00:01\r\u001b[K     |██████████████████▎             | 1.0MB 2.9MB/s eta 0:00:01\r\u001b[K     |██████████████████▌             | 1.0MB 2.9MB/s eta 0:00:01\r\u001b[K     |██████████████████▋             | 1.1MB 2.9MB/s eta 0:00:01\r\u001b[K     |██████████████████▉             | 1.1MB 2.9MB/s eta 0:00:01\r\u001b[K     |███████████████████             | 1.1MB 2.9MB/s eta 0:00:01\r\u001b[K     |███████████████████▏            | 1.1MB 2.9MB/s eta 0:00:01\r\u001b[K     |███████████████████▍            | 1.1MB 2.9MB/s eta 0:00:01\r\u001b[K     |███████████████████▌            | 1.1MB 2.9MB/s eta 0:00:01\r\u001b[K     |███████████████████▊            | 1.1MB 2.9MB/s eta 0:00:01\r\u001b[K     |████████████████████            | 1.1MB 2.9MB/s eta 0:00:01\r\u001b[K     |████████████████████            | 1.1MB 2.9MB/s eta 0:00:01\r\u001b[K     |████████████████████▎           | 1.1MB 2.9MB/s eta 0:00:01\r\u001b[K     |████████████████████▍           | 1.2MB 2.9MB/s eta 0:00:01\r\u001b[K     |████████████████████▋           | 1.2MB 2.9MB/s eta 0:00:01\r\u001b[K     |████████████████████▉           | 1.2MB 2.9MB/s eta 0:00:01\r\u001b[K     |█████████████████████           | 1.2MB 2.9MB/s eta 0:00:01\r\u001b[K     |█████████████████████▏          | 1.2MB 2.9MB/s eta 0:00:01\r\u001b[K     |█████████████████████▍          | 1.2MB 2.9MB/s eta 0:00:01\r\u001b[K     |█████████████████████▌          | 1.2MB 2.9MB/s eta 0:00:01\r\u001b[K     |█████████████████████▊          | 1.2MB 2.9MB/s eta 0:00:01\r\u001b[K     |█████████████████████▉          | 1.2MB 2.9MB/s eta 0:00:01\r\u001b[K     |██████████████████████          | 1.2MB 2.9MB/s eta 0:00:01\r\u001b[K     |██████████████████████▎         | 1.3MB 2.9MB/s eta 0:00:01\r\u001b[K     |██████████████████████▍         | 1.3MB 2.9MB/s eta 0:00:01\r\u001b[K     |██████████████████████▋         | 1.3MB 2.9MB/s eta 0:00:01\r\u001b[K     |██████████████████████▉         | 1.3MB 2.9MB/s eta 0:00:01\r\u001b[K     |███████████████████████         | 1.3MB 2.9MB/s eta 0:00:01\r\u001b[K     |███████████████████████▏        | 1.3MB 2.9MB/s eta 0:00:01\r\u001b[K     |███████████████████████▎        | 1.3MB 2.9MB/s eta 0:00:01\r\u001b[K     |███████████████████████▌        | 1.3MB 2.9MB/s eta 0:00:01\r\u001b[K     |███████████████████████▊        | 1.3MB 2.9MB/s eta 0:00:01\r\u001b[K     |███████████████████████▉        | 1.4MB 2.9MB/s eta 0:00:01\r\u001b[K     |████████████████████████        | 1.4MB 2.9MB/s eta 0:00:01\r\u001b[K     |████████████████████████▎       | 1.4MB 2.9MB/s eta 0:00:01\r\u001b[K     |████████████████████████▍       | 1.4MB 2.9MB/s eta 0:00:01\r\u001b[K     |████████████████████████▋       | 1.4MB 2.9MB/s eta 0:00:01\r\u001b[K     |████████████████████████▉       | 1.4MB 2.9MB/s eta 0:00:01\r\u001b[K     |█████████████████████████       | 1.4MB 2.9MB/s eta 0:00:01\r\u001b[K     |█████████████████████████▏      | 1.4MB 2.9MB/s eta 0:00:01\r\u001b[K     |█████████████████████████▎      | 1.4MB 2.9MB/s eta 0:00:01\r\u001b[K     |█████████████████████████▌      | 1.4MB 2.9MB/s eta 0:00:01\r\u001b[K     |█████████████████████████▊      | 1.5MB 2.9MB/s eta 0:00:01\r\u001b[K     |█████████████████████████▉      | 1.5MB 2.9MB/s eta 0:00:01\r\u001b[K     |██████████████████████████      | 1.5MB 2.9MB/s eta 0:00:01\r\u001b[K     |██████████████████████████▎     | 1.5MB 2.9MB/s eta 0:00:01\r\u001b[K     |██████████████████████████▍     | 1.5MB 2.9MB/s eta 0:00:01\r\u001b[K     |██████████████████████████▋     | 1.5MB 2.9MB/s eta 0:00:01\r\u001b[K     |██████████████████████████▊     | 1.5MB 2.9MB/s eta 0:00:01\r\u001b[K     |███████████████████████████     | 1.5MB 2.9MB/s eta 0:00:01\r\u001b[K     |███████████████████████████▏    | 1.5MB 2.9MB/s eta 0:00:01\r\u001b[K     |███████████████████████████▎    | 1.5MB 2.9MB/s eta 0:00:01\r\u001b[K     |███████████████████████████▌    | 1.6MB 2.9MB/s eta 0:00:01\r\u001b[K     |███████████████████████████▊    | 1.6MB 2.9MB/s eta 0:00:01\r\u001b[K     |███████████████████████████▉    | 1.6MB 2.9MB/s eta 0:00:01\r\u001b[K     |████████████████████████████    | 1.6MB 2.9MB/s eta 0:00:01\r\u001b[K     |████████████████████████████▏   | 1.6MB 2.9MB/s eta 0:00:01\r\u001b[K     |████████████████████████████▍   | 1.6MB 2.9MB/s eta 0:00:01\r\u001b[K     |████████████████████████████▋   | 1.6MB 2.9MB/s eta 0:00:01\r\u001b[K     |████████████████████████████▊   | 1.6MB 2.9MB/s eta 0:00:01\r\u001b[K     |█████████████████████████████   | 1.6MB 2.9MB/s eta 0:00:01\r\u001b[K     |█████████████████████████████▏  | 1.6MB 2.9MB/s eta 0:00:01\r\u001b[K     |█████████████████████████████▎  | 1.7MB 2.9MB/s eta 0:00:01\r\u001b[K     |█████████████████████████████▌  | 1.7MB 2.9MB/s eta 0:00:01\r\u001b[K     |█████████████████████████████▋  | 1.7MB 2.9MB/s eta 0:00:01\r\u001b[K     |█████████████████████████████▉  | 1.7MB 2.9MB/s eta 0:00:01\r\u001b[K     |██████████████████████████████  | 1.7MB 2.9MB/s eta 0:00:01\r\u001b[K     |██████████████████████████████▏ | 1.7MB 2.9MB/s eta 0:00:01\r\u001b[K     |██████████████████████████████▍ | 1.7MB 2.9MB/s eta 0:00:01\r\u001b[K     |██████████████████████████████▋ | 1.7MB 2.9MB/s eta 0:00:01\r\u001b[K     |██████████████████████████████▊ | 1.7MB 2.9MB/s eta 0:00:01\r\u001b[K     |███████████████████████████████ | 1.8MB 2.9MB/s eta 0:00:01\r\u001b[K     |███████████████████████████████ | 1.8MB 2.9MB/s eta 0:00:01\r\u001b[K     |███████████████████████████████▎| 1.8MB 2.9MB/s eta 0:00:01\r\u001b[K     |███████████████████████████████▌| 1.8MB 2.9MB/s eta 0:00:01\r\u001b[K     |███████████████████████████████▋| 1.8MB 2.9MB/s eta 0:00:01\r\u001b[K     |███████████████████████████████▉| 1.8MB 2.9MB/s eta 0:00:01\r\u001b[K     |████████████████████████████████| 1.8MB 2.9MB/s \n",
            "\u001b[?25hBuilding wheels for collected packages: autocorrect\n",
            "  Building wheel for autocorrect (setup.py) ... \u001b[?25l\u001b[?25hdone\n",
            "  Created wheel for autocorrect: filename=autocorrect-2.0.0-cp36-none-any.whl size=1811641 sha256=ed1068b77f680d51f7b176aea285a63ba7617ea71594149b95db0f096dde4b6c\n",
            "  Stored in directory: /root/.cache/pip/wheels/0b/06/bc/e66f28d72bed29591eadc79cebb2e7964ad0282804ab233da3\n",
            "Successfully built autocorrect\n",
            "Installing collected packages: autocorrect\n",
            "Successfully installed autocorrect-2.0.0\n"
          ],
          "name": "stdout"
        }
      ]
    },
    {
      "cell_type": "code",
      "metadata": {
        "id": "D54YfgeM6Ob_",
        "colab_type": "code",
        "colab": {
          "base_uri": "https://localhost:8080/",
          "height": 34
        },
        "outputId": "fe311c62-3e86-498e-adb9-8c68e74b5a9d"
      },
      "source": [
        "spell = Speller(lang='en')\n",
        "spell('chiken')"
      ],
      "execution_count": 43,
      "outputs": [
        {
          "output_type": "execute_result",
          "data": {
            "text/plain": [
              "'chicken'"
            ]
          },
          "metadata": {
            "tags": []
          },
          "execution_count": 43
        }
      ]
    },
    {
      "cell_type": "code",
      "metadata": {
        "id": "GtUrv7No35D-",
        "colab_type": "code",
        "colab": {}
      },
      "source": [
        "spell = Speller(lang='en')\n",
        "df['title'] = df['title'].apply(lambda x: x.replace(x, spell(x)))\n",
        "df['response'] = df['response'].apply(lambda x: x.replace(x, spell(x)))"
      ],
      "execution_count": 44,
      "outputs": []
    },
    {
      "cell_type": "code",
      "metadata": {
        "id": "ewZkbViY7cHh",
        "colab_type": "code",
        "colab": {}
      },
      "source": [
        "# saving the clean data\n",
        "df.to_csv('clean_data.csv')"
      ],
      "execution_count": 46,
      "outputs": []
    },
    {
      "cell_type": "code",
      "metadata": {
        "id": "CUvusYxe-0G3",
        "colab_type": "code",
        "colab": {}
      },
      "source": [
        ""
      ],
      "execution_count": null,
      "outputs": []
    }
  ]
}